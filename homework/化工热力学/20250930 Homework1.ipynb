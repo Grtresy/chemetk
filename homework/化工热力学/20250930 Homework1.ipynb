{
 "cells": [
  {
   "cell_type": "markdown",
   "id": "a3a27123",
   "metadata": {},
   "source": [
    "Calculate $ Z $ and $ V $ for sulfur hexafluoride at $ 75^\\circ\\text{C} $ and $ 15 $ bar by the following equations:\n",
    "\n",
    "For sulfur hexafluoride, $ T_c = 318.7 \\, \\text{K} $, $ P_c = 37.6 \\, \\text{bar} $, $ V_c = 198 \\, \\text{cm}^3 \\cdot \\text{mol}^{-1} $, and $ \\omega = 0.286 $."
   ]
  },
  {
   "cell_type": "code",
   "execution_count": 50,
   "id": "3d4490b1",
   "metadata": {},
   "outputs": [
    {
     "name": "stdout",
     "output_type": "stream",
     "text": [
      "温度: 348.15 K\n",
      "压力: 15 bar\n",
      "对比温度 Tr = 1.0924\n",
      "对比压力 Pr = 0.3989\n"
     ]
    }
   ],
   "source": [
    "import numpy as np\n",
    "from scipy.optimize import fsolve\n",
    "\n",
    "# 给定参数\n",
    "T = 75 + 273.15  # K\n",
    "P = 15  # bar\n",
    "R = 83.14  # cm³·bar/(mol·K)\n",
    "\n",
    "# 六氟化硫的临界参数\n",
    "Tc = 318.7  # K\n",
    "Pc = 37.6   # bar\n",
    "Vc = 198    # cm³/mol\n",
    "ω = 0.286\n",
    "\n",
    "print(f\"温度: {T:.2f} K\")\n",
    "print(f\"压力: {P} bar\")\n",
    "print(f\"对比温度 Tr = {T/Tc:.4f}\")\n",
    "print(f\"对比压力 Pr = {P/Pc:.4f}\")"
   ]
  },
  {
   "cell_type": "markdown",
   "id": "55073d56",
   "metadata": {},
   "source": [
    "(a) The truncated virial equation $ Z = \\frac{pV}{RT} = 1 + \\frac{B}{V} + \\frac{C}{V^2} $ with the following experimental values of virial coefficients:\n",
    "$ B = -194 \\, \\text{cm}^3 \\cdot \\text{mol}^{-1} $, $ C = 15,300 \\, \\text{cm}^6 \\cdot \\text{mol}^{-2} $"
   ]
  },
  {
   "cell_type": "code",
   "execution_count": 51,
   "id": "4fee7a8d",
   "metadata": {},
   "outputs": [
    {
     "name": "stdout",
     "output_type": "stream",
     "text": [
      "\n",
      "(a) 截断维里方程 (B,C给定):\n",
      "体积 V = 1722.27 cm³/mol\n",
      "压缩因子 Z = 0.8925\n"
     ]
    }
   ],
   "source": [
    "def virial_eq_a(V):\n",
    "    B = -194  # cm³/mol\n",
    "    C = 15300  # cm⁶/mol²\n",
    "    return P*V/(R*T) - (1 + B/V + C/V**2)\n",
    "\n",
    "# 求解\n",
    "V_initial = R*T/P  # 理想气体初始估计\n",
    "V_a = fsolve(virial_eq_a, V_initial)[0]\n",
    "Z_a = P*V_a/(R*T)\n",
    "\n",
    "print(f\"\\n(a) 截断维里方程 (B,C给定):\")\n",
    "print(f\"体积 V = {V_a:.2f} cm³/mol\")\n",
    "print(f\"压缩因子 Z = {Z_a:.4f}\")"
   ]
  },
  {
   "cell_type": "markdown",
   "id": "f3ccf212",
   "metadata": {},
   "source": [
    "(b) The truncated virial equation $ Z = \\frac{pV}{RT} = 1 + \\frac{Bp}{RT} $, with a value of $ B $ from the generalized Pitzer correlation."
   ]
  },
  {
   "cell_type": "code",
   "execution_count": 52,
   "id": "f5e41e91",
   "metadata": {},
   "outputs": [
    {
     "name": "stdout",
     "output_type": "stream",
     "text": [
      "\n",
      "(b) 截断维里方程 (Pitzer关联式):\n",
      "B0 = -0.2834\n",
      "B1 = 0.0203\n",
      "第二维里系数 B = -195.58 cm³/mol\n",
      "体积 V = 1734.10 cm³/mol\n",
      "压缩因子 Z = 0.8986\n"
     ]
    }
   ],
   "source": [
    "def virial_eq_b():\n",
    "    Tr = T/Tc\n",
    "    # Pitzer关联式\n",
    "    B0 = 0.083 - 0.422/(Tr**1.6)\n",
    "    B1 = 0.139 - 0.172/(Tr**4.2)\n",
    "    \n",
    "    # 第二维里系数\n",
    "    B = R*Tc/Pc * (B0 + ω*B1)  # cm³/mol\n",
    "    \n",
    "    # 直接计算Z\n",
    "    Z_b = 1 + B*P/(R*T)\n",
    "    V_b = Z_b * R * T / P\n",
    "    \n",
    "    return Z_b, V_b, B\n",
    "\n",
    "Z_b, V_b, B_pitzer = virial_eq_b()\n",
    "print(f\"\\n(b) 截断维里方程 (Pitzer关联式):\")\n",
    "print(f\"B0 = {0.083 - 0.422/((T/Tc)**1.6):.4f}\")\n",
    "print(f\"B1 = {0.139 - 0.172/((T/Tc)**4.2):.4f}\")\n",
    "print(f\"第二维里系数 B = {B_pitzer:.2f} cm³/mol\")\n",
    "print(f\"体积 V = {V_b:.2f} cm³/mol\")\n",
    "print(f\"压缩因子 Z = {Z_b:.4f}\")"
   ]
  },
  {
   "cell_type": "markdown",
   "id": "a557058f",
   "metadata": {},
   "source": [
    "(c) The Redlich/Kwong equation"
   ]
  },
  {
   "cell_type": "code",
   "execution_count": 53,
   "id": "3d8e4d15",
   "metadata": {},
   "outputs": [
    {
     "name": "stdout",
     "output_type": "stream",
     "text": [
      "\n",
      "(c) RK方程:\n",
      "参数 a = 142496157.94\n",
      "参数 b = 61.06 cm³/mol\n",
      "体积 V = 1714.15 cm³/mol\n",
      "压缩因子 Z = 0.8883\n"
     ]
    }
   ],
   "source": [
    "def R_K_eq(V):\n",
    "    a = 0.42748 * R**2 * Tc**2.5 / Pc\n",
    "    b = 0.08664 * R * Tc / Pc\n",
    "    \n",
    "    return P - R*T/(V-b) + a/(T**0.5 * V * (V+b))\n",
    "\n",
    "V_initial = R*T/P\n",
    "V_c = fsolve(R_K_eq, V_initial)[0]\n",
    "Z_c = P*V_c/(R*T)\n",
    "\n",
    "print(f\"\\n(c) RK方程:\")\n",
    "print(f\"参数 a = {0.42748 * R**2 * Tc**2.5 / Pc:.2f}\")\n",
    "print(f\"参数 b = {0.08664 * R * Tc / Pc:.2f} cm³/mol\")\n",
    "print(f\"体积 V = {V_c:.2f} cm³/mol\")\n",
    "print(f\"压缩因子 Z = {Z_c:.4f}\")"
   ]
  },
  {
   "cell_type": "markdown",
   "id": "fb1f5f5d",
   "metadata": {},
   "source": [
    "(d) The Soave/Redlich/Kwong equation"
   ]
  },
  {
   "cell_type": "code",
   "execution_count": 54,
   "id": "9795e3af",
   "metadata": {},
   "outputs": [
    {
     "name": "stdout",
     "output_type": "stream",
     "text": [
      "\n",
      "(d) 索阿韦-雷德利希-邝方程:\n",
      "参数 m = 0.9158\n",
      "参数 α = 0.9190\n",
      "参数 a = 7335133.50\n",
      "参数 b = 61.06 cm³/mol\n",
      "体积 V = 1726.90 cm³/mol\n",
      "压缩因子 Z = 0.8949\n"
     ]
    }
   ],
   "source": [
    "def SRK_eq(V):\n",
    "    Tr = T/Tc\n",
    "    m = 0.480 + 1.574*ω - 0.176*ω**2\n",
    "    α = (1 + m*(1 - Tr**0.5))**2\n",
    "    \n",
    "    a = 0.42748 * R**2 * Tc**2 / Pc * α\n",
    "    b = 0.08664 * R * Tc / Pc\n",
    "    \n",
    "    return P - R*T/(V-b) + a/(V * (V+b))\n",
    "\n",
    "V_initial = R*T/P\n",
    "V_d = fsolve(SRK_eq, V_initial)[0]\n",
    "Z_d = P*V_d/(R*T)\n",
    "\n",
    "print(f\"\\n(d) 索阿韦-雷德利希-邝方程:\")\n",
    "print(f\"参数 m = {0.480 + 1.574*ω - 0.176*ω**2:.4f}\")\n",
    "print(f\"参数 α = {(1 + (0.480 + 1.574*ω - 0.176*ω**2)*(1 - (T/Tc)**0.5))**2:.4f}\")\n",
    "print(f\"参数 a = {0.42748 * R**2 * Tc**2 / Pc * (1 + (0.480 + 1.574*ω - 0.176*ω**2)*(1 - (T/Tc)**0.5))**2:.2f}\")\n",
    "print(f\"参数 b = {0.08664 * R * Tc / Pc:.2f} cm³/mol\")\n",
    "print(f\"体积 V = {V_d:.2f} cm³/mol\")\n",
    "print(f\"压缩因子 Z = {Z_d:.4f}\")"
   ]
  },
  {
   "cell_type": "markdown",
   "id": "9fa0cb33",
   "metadata": {},
   "source": [
    "(e) The Peng/Robinson equation"
   ]
  },
  {
   "cell_type": "code",
   "execution_count": 55,
   "id": "1b2a8679",
   "metadata": {},
   "outputs": [
    {
     "name": "stdout",
     "output_type": "stream",
     "text": [
      "\n",
      "(e) 彭-罗宾逊方程:\n",
      "参数 k = 0.7936\n",
      "参数 α = 0.9296\n",
      "参数 a = 7936363.94\n",
      "参数 b = 54.83 cm³/mol\n",
      "体积 V = 1701.57 cm³/mol\n",
      "压缩因子 Z = 0.8818\n"
     ]
    }
   ],
   "source": [
    "def PR_eq(V):\n",
    "    Tr = T/Tc\n",
    "    k = 0.37646 + 1.54226*ω - 0.26992*ω**2\n",
    "    α = (1 + k*(1 - Tr**0.5))**2\n",
    "    \n",
    "    a = 0.45724 * R**2 * Tc**2 / Pc * α\n",
    "    b = 0.07780 * R * Tc / Pc\n",
    "    \n",
    "    return P - R*T/(V-b) + a/(V*(V+b) + b*(V-b))\n",
    "\n",
    "V_initial = R*T/P\n",
    "V_e = fsolve(PR_eq, V_initial)[0]\n",
    "Z_e = P*V_e/(R*T)\n",
    "\n",
    "print(f\"\\n(e) 彭-罗宾逊方程:\")\n",
    "print(f\"参数 k = {0.37464 + 1.54226*ω - 0.26992*ω**2:.4f}\")\n",
    "print(f\"参数 α = {(1 + (0.37464 + 1.54226*ω - 0.26992*ω**2)*(1 - (T/Tc)**0.5))**2:.4f}\")\n",
    "print(f\"参数 a = {0.45724 * R**2 * Tc**2 / Pc * (1 + (0.37464 + 1.54226*ω - 0.26992*ω**2)*(1 - (T/Tc)**0.5))**2:.2f}\")\n",
    "print(f\"参数 b = {0.07780 * R * Tc / Pc:.2f} cm³/mol\")\n",
    "print(f\"体积 V = {V_e:.2f} cm³/mol\")\n",
    "print(f\"压缩因子 Z = {Z_e:.4f}\")"
   ]
  },
  {
   "cell_type": "markdown",
   "id": "7b430a56",
   "metadata": {},
   "source": [
    "汇总结果"
   ]
  },
  {
   "cell_type": "code",
   "execution_count": 56,
   "id": "be6df62a",
   "metadata": {},
   "outputs": [
    {
     "name": "stdout",
     "output_type": "stream",
     "text": [
      "方法                        体积 (cm³/mol)    压缩因子 Z    \n",
      "--------------------------------------------------\n",
      "(a) 维里方程(B,C给定)           1722.27         0.8925    \n",
      "(b) 维里方程(Pitzer)          1734.10         0.8986    \n",
      "(c) R-K方程                 1714.15         0.8883    \n",
      "(d) SRK方程                 1726.90         0.8949    \n",
      "(e) PR方程                  1701.57         0.8818    \n",
      "理想气体                      1929.68         1.0000    \n"
     ]
    }
   ],
   "source": [
    "# 汇总结果\n",
    "print(f\"{'方法':<25} {'体积 (cm³/mol)':<15} {'压缩因子 Z':<10}\")\n",
    "print(\"-\" * 50)\n",
    "print(f\"{'(a) 维里方程(B,C给定)':<25} {V_a:<15.2f} {Z_a:<10.4f}\")\n",
    "print(f\"{'(b) 维里方程(Pitzer)':<25} {V_b:<15.2f} {Z_b:<10.4f}\")\n",
    "print(f\"{'(c) R-K方程':<25} {V_c:<15.2f} {Z_c:<10.4f}\")\n",
    "print(f\"{'(d) SRK方程':<25} {V_d:<15.2f} {Z_d:<10.4f}\")\n",
    "print(f\"{'(e) PR方程':<25} {V_e:<15.2f} {Z_e:<10.4f}\")\n",
    "print(f\"{'理想气体':<25} {R*T/P:<15.2f} {1.0000:<10.4f}\")"
   ]
  },
  {
   "cell_type": "markdown",
   "id": "40c1e1a2",
   "metadata": {},
   "source": [
    "AI使用说明：相关公式手动搜集自PPT，交由AI生成代码并经过人工核对"
   ]
  }
 ],
 "metadata": {
  "kernelspec": {
   "display_name": ".conda",
   "language": "python",
   "name": "python3"
  },
  "language_info": {
   "codemirror_mode": {
    "name": "ipython",
    "version": 3
   },
   "file_extension": ".py",
   "mimetype": "text/x-python",
   "name": "python",
   "nbconvert_exporter": "python",
   "pygments_lexer": "ipython3",
   "version": "3.9.21"
  }
 },
 "nbformat": 4,
 "nbformat_minor": 5
}
